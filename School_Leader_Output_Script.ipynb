{
  "nbformat": 4,
  "nbformat_minor": 0,
  "metadata": {
    "colab": {
      "provenance": [],
      "authorship_tag": "ABX9TyOgVojPBMmLg2YIIYVe9Tj9",
      "include_colab_link": true
    },
    "kernelspec": {
      "name": "python3",
      "display_name": "Python 3"
    },
    "language_info": {
      "name": "python"
    }
  },
  "cells": [
    {
      "cell_type": "markdown",
      "metadata": {
        "id": "view-in-github",
        "colab_type": "text"
      },
      "source": [
        "<a href=\"https://colab.research.google.com/github/lookshines/Google_App_Scipt_Codes/blob/main/School_Leader_Output_Script.ipynb\" target=\"_parent\"><img src=\"https://colab.research.google.com/assets/colab-badge.svg\" alt=\"Open In Colab\"/></a>"
      ]
    },
    {
      "cell_type": "markdown",
      "source": [
        "**Import library**"
      ],
      "metadata": {
        "id": "apCEPYVJGQ6O"
      }
    },
    {
      "cell_type": "code",
      "execution_count": null,
      "metadata": {
        "id": "J1CDG0tNGLP0"
      },
      "outputs": [],
      "source": [
        "import pandas as pd\n",
        "import numpy as np\n",
        "import gspread"
      ]
    },
    {
      "cell_type": "markdown",
      "source": [
        "Mount Drive"
      ],
      "metadata": {
        "id": "uwBYVFguHUPz"
      }
    },
    {
      "cell_type": "code",
      "source": [
        "from google.colab import drive"
      ],
      "metadata": {
        "id": "7NOHhCTMHwrD"
      },
      "execution_count": null,
      "outputs": []
    },
    {
      "cell_type": "code",
      "source": [
        "drive.mount('/content/drive')"
      ],
      "metadata": {
        "colab": {
          "base_uri": "https://localhost:8080/"
        },
        "id": "gJjn4LD5HBwD",
        "outputId": "f53e36c1-ab21-4bb8-ba5d-2cdfcd25304c"
      },
      "execution_count": null,
      "outputs": [
        {
          "output_type": "stream",
          "name": "stdout",
          "text": [
            "Mounted at /content/drive\n"
          ]
        }
      ]
    },
    {
      "cell_type": "markdown",
      "source": [
        "**Import Excel Files**"
      ],
      "metadata": {
        "id": "A1VwTgsoHXIu"
      }
    },
    {
      "cell_type": "code",
      "source": [
        "school_info = pd.read_excel('/content/drive/MyDrive/NG-Regional School Inspection/Group Nigeria/Kobo Audit Input Folder /School Leader/Output_Template/GROUPNG_School_Leader_Audit_Kobo_Output.xlsx', sheet_name = 'GROUPNG_School Leader Audit')"
      ],
      "metadata": {
        "id": "qcE40IvLHe8t"
      },
      "execution_count": null,
      "outputs": []
    },
    {
      "cell_type": "code",
      "source": [
        "Incorrect_ht_record = pd.read_excel('/content/drive/MyDrive/NG-Regional School Inspection/Group Nigeria/Kobo Audit Input Folder /School Leader/Output_Template/GROUPNG_School_Leader_Audit_Kobo_Output.xlsx', sheet_name = 'confirm_incorrect_ht_records...')"
      ],
      "metadata": {
        "id": "paU62PYBM2Vc"
      },
      "execution_count": null,
      "outputs": []
    },
    {
      "cell_type": "code",
      "source": [
        "headteacher_attendance = pd.read_csv('/content/drive/MyDrive/Colab Notebooks/Consolidated_Headteacher_Attendance.csv')"
      ],
      "metadata": {
        "id": "LBOE86ZmIhwJ"
      },
      "execution_count": null,
      "outputs": []
    },
    {
      "cell_type": "code",
      "source": [
        "headteacher_attendance = headteacher_attendance.drop_duplicates(subset = 'date_teacher_id')"
      ],
      "metadata": {
        "id": "2B3NJAvtd6aW"
      },
      "execution_count": null,
      "outputs": []
    },
    {
      "cell_type": "markdown",
      "source": [
        "**Additional Column to school info**"
      ],
      "metadata": {
        "id": "QPrDD-GHTCIu"
      }
    },
    {
      "cell_type": "code",
      "source": [
        "school_info['start_date'] = pd.to_datetime(school_info['starttime']).dt.date"
      ],
      "metadata": {
        "id": "tYV7uspFTIIg"
      },
      "execution_count": null,
      "outputs": []
    },
    {
      "cell_type": "code",
      "source": [
        "school_info['end_date'] = pd.to_datetime(school_info['endtime']).dt.date"
      ],
      "metadata": {
        "id": "ssnMrUeIULaI"
      },
      "execution_count": null,
      "outputs": []
    },
    {
      "cell_type": "code",
      "source": [
        "school_info['date_validity_check'] = school_info['start_date'] == school_info['end_date']"
      ],
      "metadata": {
        "id": "_kp1VwcvUgEY"
      },
      "execution_count": null,
      "outputs": []
    },
    {
      "cell_type": "markdown",
      "source": [
        "Pull Data into school Info"
      ],
      "metadata": {
        "id": "p0ov7ahwNkp5"
      }
    },
    {
      "cell_type": "markdown",
      "source": [
        "Creating unique indentifier in the incorrect ht record"
      ],
      "metadata": {
        "id": "6eWeYHEPB2My"
      }
    },
    {
      "cell_type": "code",
      "source": [
        "Incorrect_ht_record['ht_id_correct'] = Incorrect_ht_record.apply(lambda x: str(x['_parent_index']) + 'The employee ID needs correcting / updating' if x['confirm_incorrect_ht_records_index'] == 'The employee ID needs correcting / updating' else '', axis=1)"
      ],
      "metadata": {
        "id": "5JFAtF-0Qgpe"
      },
      "execution_count": null,
      "outputs": []
    },
    {
      "cell_type": "code",
      "source": [
        "Incorrect_ht_record['ht_name_correct'] = Incorrect_ht_record.apply(lambda x: str(x['_parent_index']) + 'The name needs correcting / updating' if x['confirm_incorrect_ht_records_index'] == 'The name needs correcting / updating' else '', axis=1)"
      ],
      "metadata": {
        "id": "mhqbHvbWK-Iw"
      },
      "execution_count": null,
      "outputs": []
    },
    {
      "cell_type": "code",
      "source": [
        "Incorrect_ht_record['ht_phone_correct'] = Incorrect_ht_record.apply(lambda x: str(x['_parent_index']) + 'The phone number needs correcting / updating' if x['confirm_incorrect_ht_records_index'] == 'The phone number needs correcting / updating' else '', axis=1)"
      ],
      "metadata": {
        "id": "Mrxy_pQoLT47"
      },
      "execution_count": null,
      "outputs": []
    },
    {
      "cell_type": "markdown",
      "source": [
        "Creating unique indentifier in the school info"
      ],
      "metadata": {
        "id": "2Wxyd9_9CCsP"
      }
    },
    {
      "cell_type": "code",
      "source": [
        "school_info['ht_id_correct'] = school_info['_index'].astype(str) + 'The employee ID needs correcting / updating'"
      ],
      "metadata": {
        "id": "pc6B1kMnUB_P"
      },
      "execution_count": null,
      "outputs": []
    },
    {
      "cell_type": "code",
      "source": [
        "school_info['ht_name_correct'] = school_info['_index'].astype(str) + 'The name needs correcting / updating'"
      ],
      "metadata": {
        "id": "DH6JvD6cUWzE"
      },
      "execution_count": null,
      "outputs": []
    },
    {
      "cell_type": "code",
      "source": [
        "school_info['ht_phone_correct'] = school_info['_index'].astype(str) + 'The phone number needs correcting / updating'"
      ],
      "metadata": {
        "id": "E8j4eBw0Vxlx"
      },
      "execution_count": null,
      "outputs": []
    },
    {
      "cell_type": "markdown",
      "source": [
        "Clean Up Attendance Data"
      ],
      "metadata": {
        "id": "MOrUqN7BMgxh"
      }
    },
    {
      "cell_type": "code",
      "source": [
        "headteacher_attendance['date_school'] = headteacher_attendance['ActivityDate'] + headteacher_attendance['AcademyCode']"
      ],
      "metadata": {
        "id": "5xOa3YFjMmmK"
      },
      "execution_count": null,
      "outputs": []
    },
    {
      "cell_type": "code",
      "source": [
        "headteacher_attendance.copy = headteacher_attendance.drop_duplicates(subset = 'date_school', keep = False)"
      ],
      "metadata": {
        "id": "KO2JU7oiNj_t"
      },
      "execution_count": null,
      "outputs": []
    },
    {
      "cell_type": "markdown",
      "source": [
        "Bring data from incorrec ht record into school info"
      ],
      "metadata": {
        "id": "6lXtCZQlCn7q"
      }
    },
    {
      "cell_type": "code",
      "source": [
        "school_info = school_info.merge(Incorrect_ht_record[['ht_id_correct', 'Please enter the correct  **\"${confirm_incorrect_ht_records_index}\"**']], how = 'left', on = 'ht_id_correct')"
      ],
      "metadata": {
        "id": "Ej3idpCfV-Rd"
      },
      "execution_count": null,
      "outputs": []
    },
    {
      "cell_type": "code",
      "source": [
        "school_info = school_info.merge(Incorrect_ht_record[['ht_name_correct', 'Please enter the correct  **\"${confirm_incorrect_ht_records_index}\"**']], how = 'left', on = 'ht_name_correct')"
      ],
      "metadata": {
        "id": "LagG0N52e5yj"
      },
      "execution_count": null,
      "outputs": []
    },
    {
      "cell_type": "code",
      "source": [
        "school_info = school_info.merge(Incorrect_ht_record[['ht_phone_correct', 'Please enter the correct  **\"${confirm_incorrect_ht_records_index}\"**']], how = 'left', on = 'ht_phone_correct')"
      ],
      "metadata": {
        "id": "Lc6v-5KVfRhf"
      },
      "execution_count": null,
      "outputs": []
    },
    {
      "cell_type": "code",
      "source": [
        "school_info.rename({'Please enter the correct  **\"${confirm_incorrect_ht_records_index}\"**_x' : 'Correct_ht_id', 'Please enter the correct  **\"${confirm_incorrect_ht_records_index}\"**_y' : 'correct_ht_name', 'Please enter the correct  **\"${confirm_incorrect_ht_records_index}\"**' : 'correct_ht_phonenumber'}, axis = 1, inplace = True)"
      ],
      "metadata": {
        "id": "e_RtigzmOFLF"
      },
      "execution_count": null,
      "outputs": []
    },
    {
      "cell_type": "markdown",
      "source": [
        "Pulling Headteacher details from the Attendance file"
      ],
      "metadata": {
        "id": "vH0hdi9aOrIw"
      }
    },
    {
      "cell_type": "code",
      "source": [
        "school_info['date_school'] = school_info['start_date'].astype(str) + school_info['School name']"
      ],
      "metadata": {
        "id": "YTW-CViIOS47"
      },
      "execution_count": null,
      "outputs": []
    },
    {
      "cell_type": "code",
      "source": [
        "school_info = school_info.merge(headteacher_attendance.copy[['Teacher_ID', 'TeacherName', 'date_school']], how = 'left', on = 'date_school')"
      ],
      "metadata": {
        "id": "guvltdYhO_9P"
      },
      "execution_count": null,
      "outputs": []
    },
    {
      "cell_type": "code",
      "source": [
        "school_info.rename({'Teacher_ID' : 'Headteacher ID_RS', 'TeacherName' : 'Headteacher Name_RS'}, axis = 1, inplace = True)"
      ],
      "metadata": {
        "id": "Jur-djKjSEDa"
      },
      "execution_count": null,
      "outputs": []
    },
    {
      "cell_type": "code",
      "source": [
        "school_info['Final_Headteacher_ID'] = school_info.apply(lambda x: x['Correct_ht_id'] if x['Select which items, if any, need correcting/The employee ID needs correcting / updating'] == 1\n",
        " else (x['Headeacher employee id'] if pd.notnull(x['Headeacher employee id'])  else x['Headteacher ID_RS']), axis = 1)"
      ],
      "metadata": {
        "id": "vuJ7C3oMTDg0"
      },
      "execution_count": null,
      "outputs": []
    },
    {
      "cell_type": "markdown",
      "source": [
        "Pulling Attendance from the attendance sheet"
      ],
      "metadata": {
        "id": "9bmVqQf4Si6j"
      }
    },
    {
      "cell_type": "code",
      "source": [
        "school_info['date_headteacher_ID'] = school_info.apply(lambda x: str(x['start_date']) + str(x['Final_Headteacher_ID']), axis = 1)"
      ],
      "metadata": {
        "id": "Hvkz38hazIbG"
      },
      "execution_count": null,
      "outputs": []
    },
    {
      "cell_type": "code",
      "source": [
        "school_info = school_info.merge(headteacher_attendance[['IS_PRESENT', 'date_teacher_id']], how = 'left', left_on = 'date_headteacher_ID', right_on = 'date_teacher_id')"
      ],
      "metadata": {
        "id": "Yt9DPdLy0JqU"
      },
      "execution_count": null,
      "outputs": []
    },
    {
      "cell_type": "code",
      "source": [
        "school_info.drop(['date_teacher_id', 'date_headteacher_ID', 'ht_id_correct', 'ht_name_correct', 'ht_phone_correct'], axis = 'columns', inplace = True)"
      ],
      "metadata": {
        "id": "eE_bk9Bj10sq"
      },
      "execution_count": null,
      "outputs": []
    },
    {
      "cell_type": "code",
      "source": [
        "Incorrect_ht_record.drop(['ht_id_correct', 'ht_name_correct', 'ht_phone_correct'], axis = 'columns', inplace = True)"
      ],
      "metadata": {
        "id": "dE4dW3a9288O"
      },
      "execution_count": null,
      "outputs": []
    },
    {
      "cell_type": "markdown",
      "source": [
        "**Preparation for Export**"
      ],
      "metadata": {
        "id": "VrNWnJ-Oi0Hq"
      }
    },
    {
      "cell_type": "code",
      "source": [
        "export_index = 1"
      ],
      "metadata": {
        "id": "AOP4UkpCQuB2"
      },
      "execution_count": null,
      "outputs": []
    },
    {
      "cell_type": "code",
      "source": [
        "school_info = school_info[(school_info['_index'] >= export_index)]"
      ],
      "metadata": {
        "id": "g600RDxwizkv"
      },
      "execution_count": null,
      "outputs": []
    },
    {
      "cell_type": "code",
      "source": [
        "Incorrect_ht_record = Incorrect_ht_record[(Incorrect_ht_record['_parent_index'] >= export_index)]"
      ],
      "metadata": {
        "id": "ZWRx2lu5j6to"
      },
      "execution_count": null,
      "outputs": []
    },
    {
      "cell_type": "markdown",
      "source": [
        "**Prepartion of Google Sheet**"
      ],
      "metadata": {
        "id": "lgRzr-Qxk-X7"
      }
    },
    {
      "cell_type": "code",
      "source": [
        "from google.colab import auth"
      ],
      "metadata": {
        "id": "KrpqQLuJk-BD"
      },
      "execution_count": null,
      "outputs": []
    },
    {
      "cell_type": "code",
      "source": [
        "auth.authenticate_user()"
      ],
      "metadata": {
        "id": "eFi2MybqodjG"
      },
      "execution_count": null,
      "outputs": []
    },
    {
      "cell_type": "code",
      "source": [
        "from google.auth import default"
      ],
      "metadata": {
        "id": "s2F7A2j_ohPb"
      },
      "execution_count": null,
      "outputs": []
    },
    {
      "cell_type": "code",
      "source": [
        "creds, _ = default()"
      ],
      "metadata": {
        "id": "Wo_WfyvAokZL"
      },
      "execution_count": null,
      "outputs": []
    },
    {
      "cell_type": "code",
      "source": [
        "gc  = gspread.authorize(creds)"
      ],
      "metadata": {
        "id": "StWWda-aongU"
      },
      "execution_count": null,
      "outputs": []
    },
    {
      "cell_type": "code",
      "source": [
        "sheet_id = '1SHL5MeKkL166hP9veLURMjLWpbkEXU-AYBzVgvyjcdU'"
      ],
      "metadata": {
        "id": "eRib12zho2An"
      },
      "execution_count": null,
      "outputs": []
    },
    {
      "cell_type": "code",
      "source": [
        "sh = gc.open_by_key(sheet_id)"
      ],
      "metadata": {
        "id": "xi8HrljspemK"
      },
      "execution_count": null,
      "outputs": []
    },
    {
      "cell_type": "markdown",
      "source": [
        "**Get Varous Worksheet**"
      ],
      "metadata": {
        "id": "7fmu3r-EpSfC"
      }
    },
    {
      "cell_type": "code",
      "source": [
        "school_info_worksheet = sh.worksheet('School_Level_Observation')"
      ],
      "metadata": {
        "id": "AkPHGc56pRK8"
      },
      "execution_count": null,
      "outputs": []
    },
    {
      "cell_type": "code",
      "source": [
        "incorrect_ht_record_worksheet = sh.worksheet('confirm_incorrect_ht_records')"
      ],
      "metadata": {
        "id": "yl8C1gBgp7Wl"
      },
      "execution_count": null,
      "outputs": []
    },
    {
      "cell_type": "markdown",
      "source": [
        "**Export to google sheet**"
      ],
      "metadata": {
        "id": "PKHAoDs8qyR8"
      }
    },
    {
      "cell_type": "code",
      "source": [
        "from gspread_dataframe import set_with_dataframe"
      ],
      "metadata": {
        "id": "TUvtdmRkqral"
      },
      "execution_count": null,
      "outputs": []
    },
    {
      "cell_type": "code",
      "source": [
        "set_with_dataframe(school_info_worksheet, school_info, row = 1, col = 1)"
      ],
      "metadata": {
        "id": "VBwsaZjmrBVi"
      },
      "execution_count": null,
      "outputs": []
    },
    {
      "cell_type": "code",
      "source": [
        "set_with_dataframe(incorrect_ht_record_worksheet, Incorrect_ht_record, row = 1, col = 1)"
      ],
      "metadata": {
        "id": "S5KGplERrKFF"
      },
      "execution_count": null,
      "outputs": []
    }
  ]
}